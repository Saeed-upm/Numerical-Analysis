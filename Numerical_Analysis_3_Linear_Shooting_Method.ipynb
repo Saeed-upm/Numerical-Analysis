{
  "nbformat": 4,
  "nbformat_minor": 0,
  "metadata": {
    "kernelspec": {
      "display_name": "Python 3",
      "language": "python",
      "name": "python3"
    },
    "language_info": {
      "codemirror_mode": {
        "name": "ipython",
        "version": 3
      },
      "file_extension": ".py",
      "mimetype": "text/x-python",
      "name": "python",
      "nbconvert_exporter": "python",
      "pygments_lexer": "ipython3",
      "version": "3.7.9"
    },
    "colab": {
      "provenance": [],
      "include_colab_link": true
    }
  },
  "cells": [
    {
      "cell_type": "markdown",
      "metadata": {
        "id": "view-in-github",
        "colab_type": "text"
      },
      "source": [
        "<a href=\"https://colab.research.google.com/github/Saeed-upm/Numerical-Analysis/blob/main/Numerical_Analysis_3_Linear_Shooting_Method.ipynb\" target=\"_parent\"><img src=\"https://colab.research.google.com/assets/colab-badge.svg\" alt=\"Open In Colab\"/></a>"
      ]
    },
    {
      "cell_type": "markdown",
      "metadata": {
        "id": "Z_EdXluqzGCI"
      },
      "source": [
        "# Linear Shooting Method\n",
        "## روش تیراندازی خطی"
      ]
    },
    {
      "cell_type": "markdown",
      "metadata": {
        "id": "TQlbwgeIzGCL"
      },
      "source": [
        "## Overview\n",
        "This notebook illustates the implentation of a linear shooting method to a linear boundary value problem. The video below walks through the code."
      ]
    },
    {
      "cell_type": "markdown",
      "metadata": {
        "id": "SGMwRqi6zGCO"
      },
      "source": [
        "## Introduction\n",
        "To numerically approximate the Boundary Value Problem\n",
        " \\begin{equation}\n",
        "y^{''}=p(x)y^{'}+q(x)y+r(x) \\ \\ \\ a < x < b \\end{equation}\n",
        "with the left and right boundary conditions:\n",
        " \\begin{equation}y(a)=\\alpha, \\end{equation}\n",
        " \\begin{equation}y(b) =\\beta. \\end{equation}\n",
        "\n",
        "The Boundary Value Problem is divided into two\n",
        "Initial Value Problems:\n",
        "1. The first 2nd order Initial Value Problem is the same as the original Boundary Value Problem with an extra initial condtion $y_1^{'}(a)=0$.\n",
        "\\begin{equation}\n",
        " y^{''}_1=p(x)y^{'}_1+q(x)y_1+r(x), \\ \\    y_1(a)=\\alpha, \\ \\ \\color{green}{y^{'}_1(a)=0},\\\\\n",
        "\\end{equation}\n",
        "2. The second 2nd order Initial Value Problem is the homogenous form of the original Boundary Value Problem, by removing $r(x)$, with the initial condtions $y_2(a)=0$ and $y_2^{'}(a)=1$.\n",
        "\n",
        "\\begin{equation}\n",
        "y^{''}_2=p(x)y^{'}_2+q(x)y_2, \\ \\ \\color{green}{y_2(a)=0, \\ \\ y^{'}_2(a)=1}.\n",
        "\\end{equation}\n",
        "\n",
        "combining these intial values problems together to get the unique solution\n",
        "\\begin{equation}\n",
        "y(x)=y_1(x)+\\frac{\\beta-y_1(b)}{y_2(b)}y_2(x),\n",
        "\\end{equation}\n",
        "provided that $y_2(b)\\not=0$.\n",
        "\n",
        "The truncation error for the shooting method  is  \n",
        "$$ |y_i - y(x_i)| \\leq K h^n\\left|1+\\frac{y_{2 i}}{y_{2 i}}\\right| $$\n",
        "$O(h^n)$ is the order of the numerical method used to approximate the solution of the Initial Value Problems.\n"
      ]
    },
    {
      "cell_type": "code",
      "metadata": {
        "id": "xEz-lWFwzGCP"
      },
      "source": [
        "import numpy as np\n",
        "import math\n",
        "import matplotlib.pyplot as plt\n",
        "import pandas as pd"
      ],
      "execution_count": null,
      "outputs": []
    },
    {
      "cell_type": "markdown",
      "metadata": {
        "id": "hPp1gJRtzGCP"
      },
      "source": [
        "## Example Boundary Value Problem\n",
        "To illustrate the shooting method we shall apply it to the Boundary Value Problem:\n",
        " \\begin{equation}y^{''}=2y^{'}+3y-6,  \\end{equation}\n",
        "with boundary conditions\n",
        " \\begin{equation}y(0) = 3,  \\end{equation}\n",
        " \\begin{equation}y(1) = e^3+2,  \\end{equation}\n",
        "with the exact solution is\n",
        " \\begin{equation}y=e^{3x}+2.  \\end{equation}\n",
        "The __boundary value problem__ is broken into two second order __Initial Value Problems:__\n",
        "1. The first 2nd order Intial Value Problem is the same as the original Boundary Value Problem with an extra initial condtion $u^{'}(0)=0$.\n",
        "\\begin{equation}\n",
        " y^{''}_1=p(x)y^{'}_1+q(x)y_1+r(x), \\ \\    y_1(a)=\\alpha, \\ \\ \\color{green}{y^{'}_1(a)=0},\\\\\n",
        "\\end{equation}\n",
        "\\begin{equation}\n",
        "u^{''} =2u'+3u-6, \\ \\ \\ \\ u(0)=3, \\ \\ \\ \\color{green}{u^{'}(0)=0}\n",
        "\\end{equation}\n",
        "2. The second 2nd order Intial Value Problem is the homogenous form of the original Boundary Value Problem with the initial condtions $w^{'}(0)=0$ and $w^{'}(0)=1$.\n",
        "\\begin{equation}\n",
        "y^{''}_2=p(x)y^{'}_2+q(x)y_2, \\ \\ \\color{green}{y_2(a)=0, \\ \\ y^{'}_2(a)=1}.\n",
        "\\end{equation}\n",
        "\\begin{equation}\n",
        "w^{''} =2w^{'}+3w, \\ \\ \\ \\ \\color{green}{w(0)=0}, \\ \\ \\ \\color{green}{w^{'}(0)=1}\n",
        "\\end{equation}\n",
        "\n",
        "combining these results of these two intial value problems as a linear sum\n",
        "\\begin{equation}\n",
        "y(x)=y_1(x)+\\frac{\\beta-y_1(b)}{y_2(b)}y_2(x),\n",
        "\\end{equation}\n",
        "\\begin{equation}\n",
        "y(x)=u(x)+\\frac{e^{3x}+2-u(1)}{w(1)}w(x)\n",
        "\\end{equation}\n",
        "gives the solution of the Boundary Value Problem."
      ]
    },
    {
      "cell_type": "markdown",
      "metadata": {
        "id": "IEZioK-qzGCQ"
      },
      "source": [
        "## Discrete Axis\n",
        "The stepsize is defined as\n",
        " \\begin{equation}h=\\frac{b-a}{N}, \\end{equation}\n",
        "here it is\n",
        " \\begin{equation}h=\\frac{1-0}{10}, \\end{equation}\n",
        "giving\n",
        " \\begin{equation}x_i=0+0.1 i, \\end{equation}\n",
        "for $i=0,1,...10.$\n",
        "\n"
      ]
    },
    {
      "cell_type": "code",
      "metadata": {
        "id": "VDgbCuF3zGCR",
        "colab": {
          "base_uri": "https://localhost:8080/",
          "height": 391
        },
        "outputId": "b1d6343a-92d6-42b9-c671-571969742fc5"
      },
      "source": [
        "## BVP\n",
        "N=20\n",
        "h=1/N\n",
        "x=np.linspace(0,1,N+1)\n",
        "fig = plt.figure(figsize=(10,4))\n",
        "plt.plot(x,0*x,'o:',color='red')\n",
        "plt.xlim((0,1))\n",
        "plt.title('Illustration of discrete time points for h=%s'%(h))\n",
        "\n",
        "plt.show()"
      ],
      "execution_count": null,
      "outputs": [
        {
          "output_type": "display_data",
          "data": {
            "text/plain": [
              "<Figure size 1000x400 with 1 Axes>"
            ],
            "image/png": "[encoded data removed]"
          },
          "metadata": {}
        }
      ]
    },
    {
      "cell_type": "markdown",
      "metadata": {
        "id": "koRQxasszGCS"
      },
      "source": [
        "## Initial conditions\n",
        "The initial conditions for the discrete equations are:\n",
        "$$ u_1[0]=3$$\n",
        "$$ \\color{green}{u_2[0]=0}$$\n",
        "$$ \\color{green}{w_1[0]=0}$$\n",
        "$$ \\color{green}{w_2[0]=1}$$"
      ]
    },
    {
      "cell_type": "code",
      "metadata": {
        "id": "-HG-ZDhCzGCT"
      },
      "source": [
        "U1=np.zeros(N+1)\n",
        "U2=np.zeros(N+1)\n",
        "W1=np.zeros(N+1)\n",
        "W2=np.zeros(N+1)\n",
        "\n",
        "U1[0]=3\n",
        "U2[0]=0\n",
        "\n",
        "W1[0]=0\n",
        "W2[0]=1"
      ],
      "execution_count": null,
      "outputs": []
    },
    {
      "cell_type": "markdown",
      "metadata": {
        "id": "w1IrA-VOzGCT"
      },
      "source": [
        "## Numerical method\n",
        "The Euler method is applied to numerically approximate the solution of the system of the two second order initial value problems they are converted in to two pairs of two first order initial value problems:\n",
        "\n",
        "### 1. Inhomogenous Approximation\n",
        "\n",
        "\\begin{equation}\n",
        "u^{''} =2u'+3u-6, \\ \\ \\ \\ u(0)=3, \\ \\ \\ \\color{green}{u^{'}(0)=0}\n",
        "\\end{equation}\n",
        "The plot below shows the numerical approximation for the two first order Intial Value Problems\n",
        "\\begin{equation}\n",
        "u_1^{'} =u_2, \\ \\ \\ \\ u_1(0)=3,\n",
        "\\end{equation}\n",
        "\\begin{equation}\n",
        "u_2^{'} =2u_2+3u_1-6, \\ \\ \\ \\color{green}{u_2(0)=0},\n",
        "\\end{equation}\n",
        "\n",
        "that  <font color='red'>Euler approximate</font> of the inhomogeneous two Initial Value Problems is :\n",
        " \\begin{equation}u_{1}[i+1]=u_{1}[i] + h u_{2}[i] \\end{equation}\n",
        " \\begin{equation}u_{2}[i+1]=u_{2}[i] + h (2u_{2}[i]+3u_{1}[i] -6) \\end{equation}\n",
        "with $u_1[0]=3$ and $\\color{green}{u_2[0]=0}$."
      ]
    },
    {
      "cell_type": "code",
      "metadata": {
        "id": "PWmcmft2zGCT"
      },
      "source": [
        "for i in range (0,N):\n",
        "    U1[i+1]=U1[i]+h*(U2[i])\n",
        "    U2[i+1]=U2[i]+h*(2*U2[i]+3*U1[i]-6)\n"
      ],
      "execution_count": null,
      "outputs": []
    },
    {
      "cell_type": "code",
      "source": [
        "print(U1)"
      ],
      "metadata": {
        "colab": {
          "base_uri": "https://localhost:8080/"
        },
        "id": "ZCa484U8j43m",
        "outputId": "42bb8663-dece-419b-9174-c909e73e9be2"
      },
      "execution_count": null,
      "outputs": [
        {
          "output_type": "stream",
          "name": "stdout",
          "text": [
            "[3.         3.         3.03       3.096      3.2061     3.3711\n",
            " 3.605283   3.9274356  4.36217721 4.94169021 5.70797113]\n"
          ]
        }
      ]
    },
    {
      "cell_type": "code",
      "source": [
        "print(U2)"
      ],
      "metadata": {
        "colab": {
          "base_uri": "https://localhost:8080/"
        },
        "id": "TfTV46u6kAZ6",
        "outputId": "0ba1c167-3cc4-40d0-9af2-c0a39bc0dced"
      },
      "execution_count": null,
      "outputs": [
        {
          "output_type": "stream",
          "name": "stdout",
          "text": [
            "[ 0.          0.3         0.66        1.101       1.65        2.34183\n",
            "  3.221526    4.3474161   5.79513     7.66280916 10.07787806]\n"
          ]
        }
      ]
    },
    {
      "cell_type": "markdown",
      "metadata": {
        "id": "Wvn3PlEgzGCU"
      },
      "source": [
        "### Plots\n",
        "The plot below shows the Euler approximation of the two intial value problems $u_1$ on the left and $u2$ on the right."
      ]
    },
    {
      "cell_type": "code",
      "metadata": {
        "id": "X3xC3lzTzGCU",
        "colab": {
          "base_uri": "https://localhost:8080/",
          "height": 371
        },
        "outputId": "8e3a749b-d7e6-4955-a72b-f8c7784fbe67"
      },
      "source": [
        "fig = plt.figure(figsize=(12,4))\n",
        "ax = fig.add_subplot(1,2,1)\n",
        "plt.plot(x,U1,'^')\n",
        "#plt.title(r\"$u_1'=u_2, \\ \\  u_1(0)=3$\",fontsize=16)\n",
        "plt.grid(True)\n",
        "\n",
        "ax = fig.add_subplot(1,2,2)\n",
        "plt.plot(x,U2,'v')\n",
        "#plt.title(\"U2\", fontsize=16)\n",
        "\n",
        "plt.grid(True)\n",
        "plt.show()"
      ],
      "execution_count": null,
      "outputs": [
        {
          "output_type": "display_data",
          "data": {
            "text/plain": [
              "<Figure size 1200x400 with 2 Axes>"
            ],
            "image/png": "[encoded data removed]"
          },
          "metadata": {}
        }
      ]
    },
    {
      "cell_type": "markdown",
      "metadata": {
        "id": "AtAXJZd7zGCV"
      },
      "source": [
        "### 2. Homogenous Approximation\n",
        "The homogeneous Bounday Value Problem is divided into two first order Intial Value Problems\n",
        "\\begin{equation}\n",
        "w_1^{'} =w_2, \\ \\ \\ \\ \\color{green}{w_1(0)=0}\n",
        "\\end{equation}\n",
        "\\begin{equation}\n",
        "w_2^{'} =2w_2+3w_1,  \\ \\ \\ \\color{green}{w_2(0)=1}\n",
        "\\end{equation}\n",
        "\n",
        "The Euler approximation of the homogeneous of the two Initial Value Problem is\n",
        " \\begin{equation}w_{1}[i+1]=w_{1}[i] + h w_{2}[i] \\end{equation}\n",
        " \\begin{equation}w_{2}[i+1]=w_{2}[i] + h (2w_{2}[i]+3w_{1}[i]) \\end{equation}\n",
        "with $\\color{green}{w_1[0]=0}$ and $\\color{green}{w_2[0]=1}$."
      ]
    },
    {
      "cell_type": "code",
      "metadata": {
        "id": "dwDtmXUuzGCV"
      },
      "source": [
        "for i in range (0,N):\n",
        "    W1[i+1]=W1[i]+h*(W2[i])\n",
        "    W2[i+1]=W2[i]+h*(2*W2[i]+3*W1[i])"
      ],
      "execution_count": null,
      "outputs": []
    },
    {
      "cell_type": "code",
      "source": [
        "print(W1)"
      ],
      "metadata": {
        "colab": {
          "base_uri": "https://localhost:8080/"
        },
        "id": "E-FmHIW8kY2f",
        "outputId": "c9245321-3e62-4057-f911-7036a2a04a68"
      },
      "execution_count": null,
      "outputs": [
        {
          "output_type": "stream",
          "name": "stdout",
          "text": [
            "[0.         0.1        0.22       0.367      0.55       0.78061\n",
            " 1.073842   1.4491387  1.93171    2.55426972 3.35929269]\n"
          ]
        }
      ]
    },
    {
      "cell_type": "markdown",
      "metadata": {
        "id": "6LLstTCjzGCW"
      },
      "source": [
        "### Homogenous Approximation\n",
        "\n",
        "### Plots\n",
        "The plot below shows the Euler approximation of the two intial value problems $u_1$ on the left and $u2$ on the right."
      ]
    },
    {
      "cell_type": "code",
      "metadata": {
        "id": "2qCGNhs-zGCW",
        "colab": {
          "base_uri": "https://localhost:8080/",
          "height": 389
        },
        "outputId": "fcbe8da7-5c00-4e6f-869a-79507ec66d96"
      },
      "source": [
        "fig = plt.figure(figsize=(12,4))\n",
        "ax = fig.add_subplot(1,2,1)\n",
        "plt.plot(x,W1,'^')\n",
        "plt.grid(True)\n",
        "plt.title(\"$w_1'=w_2,  w_1(0)=0$\",fontsize=16)\n",
        "\n",
        "ax = fig.add_subplot(1,2,2)\n",
        "plt.plot(x,W2,'v')\n",
        "plt.grid(True)\n",
        "plt.title(\"$w_2'=2w_2+3w_1,  w_2(0)=1$\",fontsize=16)\n",
        "plt.tight_layout()\n",
        "plt.subplots_adjust(top=0.85)\n",
        "\n",
        "plt.show()\n",
        "beta=math.exp(3)+2\n",
        "y=U1+(beta-U1[N])/W1[N]*W1"
      ],
      "execution_count": null,
      "outputs": [
        {
          "output_type": "display_data",
          "data": {
            "text/plain": [
              "<Figure size 1200x400 with 2 Axes>"
            ],
            "image/png": "[encoded data removed]"
          },
          "metadata": {}
        }
      ]
    },
    {
      "cell_type": "markdown",
      "metadata": {
        "id": "tvIxL2tuzGCW"
      },
      "source": [
        "## Approximate Solution\n",
        "Combining together the numerical approximation of $u_1$ and $w_1$ as a weighted sum  \n",
        " \\begin{equation}y(x[i])\\approx u_{1}[i] + \\frac{e^3+2-u_{1}[N]}{w_1[N]}w_{1}[i] \\end{equation}\n",
        "gives the approximate solution of the Boundary Value Problem.\n",
        "\n",
        "\n",
        "The truncation error for the shooting method using the Euler method is  \n",
        " \\begin{equation} |y_i - y(x[i])| \\leq K h\\left|1+\\frac{w_{1}[i]}{u_{1}[i]}\\right|  \\end{equation}\n",
        "$O(h)$ is the order of the method.\n",
        "\n",
        "The plot below shows the approximate solution of the Boundary Value Problem (left), the exact solution (middle) and the error (right)"
      ]
    },
    {
      "cell_type": "code",
      "metadata": {
        "id": "p3Q5hFqszGCX",
        "colab": {
          "base_uri": "https://localhost:8080/",
          "height": 386
        },
        "outputId": "084f5351-d30a-4852-e0a6-097d2b6898e4"
      },
      "source": [
        "Exact=np.exp(3*x)+2\n",
        "fig = plt.figure(figsize=(12,4))\n",
        "ax = fig.add_subplot(1,3,1)\n",
        "plt.plot(x,y,'o')\n",
        "\n",
        "plt.grid(True)\n",
        "plt.title(\"Numerical\",\n",
        "          fontsize=16)\n",
        "\n",
        "ax = fig.add_subplot(1,3,2)\n",
        "plt.plot(x,Exact,'ks-')\n",
        "\n",
        "plt.grid(True)\n",
        "plt.title(\"Exact\",\n",
        "          fontsize=16)\n",
        "\n",
        "ax = fig.add_subplot(1,3,3)\n",
        "plt.plot(x,abs(y-Exact),'ro')\n",
        "plt.grid(True)\n",
        "plt.title(\"Error \",fontsize=16)\n",
        "\n",
        "plt.tight_layout()\n",
        "plt.subplots_adjust(top=0.85)\n",
        "plt.show()"
      ],
      "execution_count": null,
      "outputs": [
        {
          "output_type": "display_data",
          "data": {
            "text/plain": [
              "<Figure size 1200x400 with 3 Axes>"
            ],
            "image/png": "[encoded data removed]"
          },
          "metadata": {}
        }
      ]
    },
    {
      "cell_type": "markdown",
      "metadata": {
        "id": "CUmD6pdTzGCX"
      },
      "source": [
        "### Data\n",
        "The Table below shows that output for $x$, the Euler numerical approximations $U1$, $U2$, $W1$ and $W2$ of the system of four Intial Value Problems, the shooting methods approximate solution $y_i=u_{1 i} + \\frac{e^3+2-u_{1}(x_N)}{w_1(x_N)}w_{1 i}$ and the exact solution of the Boundary Value Problem."
      ]
    },
    {
      "cell_type": "code",
      "metadata": {
        "id": "dn0w4Cn4zGCX",
        "colab": {
          "base_uri": "https://localhost:8080/",
          "height": 363
        },
        "outputId": "638fde75-1fc6-4709-aba0-f89af8fd53bb"
      },
      "source": [
        "d = {'time x_i': x[0:10],\n",
        "     'U1':np.round(U1[0:10],3),\n",
        "     'U2':np.round(U2[0:10],3),\n",
        "     'W1':np.round(W1[0:10],3),\n",
        "     'W2':np.round(W2[0:10],3),\n",
        "     'y_i':np.round(W2[0:10],3),\n",
        "     'y(x_i)':np.round(W2[0:10],3)\n",
        "    }\n",
        "df = pd.DataFrame(data=d)\n",
        "df"
      ],
      "execution_count": null,
      "outputs": [
        {
          "output_type": "execute_result",
          "data": {
            "text/plain": [
              "   time x_i     U1     U2     W1     W2    y_i  y(x_i)\n",
              "0      0.00  3.000  0.000  0.000  1.000  1.000   1.000\n",
              "1      0.05  3.000  0.150  0.050  1.100  1.100   1.100\n",
              "2      0.10  3.008  0.315  0.105  1.218  1.218   1.218\n",
              "3      0.15  3.023  0.498  0.166  1.355  1.355   1.355\n",
              "4      0.20  3.048  0.701  0.234  1.515  1.515   1.515\n",
              "5      0.25  3.083  0.928  0.309  1.702  1.702   1.702\n",
              "6      0.30  3.130  1.183  0.394  1.919  1.919   1.919\n",
              "7      0.35  3.189  1.471  0.490  2.170  2.170   2.170\n",
              "8      0.40  3.262  1.797  0.599  2.460  2.460   2.460\n",
              "9      0.45  3.352  2.166  0.722  2.796  2.796   2.796"
            ],
            "text/html": [
              "\n",
              "  <div id=\"df-f3bf6c3a-3f8a-4600-a0bd-b46d09be5bc9\" class=\"colab-df-container\">\n",
              "    <div>\n",
              "<style scoped>\n",
              "    .dataframe tbody tr th:only-of-type {\n",
              "        vertical-align: middle;\n",
              "    }\n",
              "\n",
              "    .dataframe tbody tr th {\n",
              "        vertical-align: top;\n",
              "    }\n",
              "\n",
              "    .dataframe thead th {\n",
              "        text-align: right;\n",
              "    }\n",
              "</style>\n",
              "<table border=\"1\" class=\"dataframe\">\n",
              "  <thead>\n",
              "    <tr style=\"text-align: right;\">\n",
              "      <th></th>\n",
              "      <th>time x_i</th>\n",
              "      <th>U1</th>\n",
              "      <th>U2</th>\n",
              "      <th>W1</th>\n",
              "      <th>W2</th>\n",
              "      <th>y_i</th>\n",
              "      <th>y(x_i)</th>\n",
              "    </tr>\n",
              "  </thead>\n",
              "  <tbody>\n",
              "    <tr>\n",
              "      <th>0</th>\n",
              "      <td>0.00</td>\n",
              "      <td>3.000</td>\n",
              "      <td>0.000</td>\n",
              "      <td>0.000</td>\n",
              "      <td>1.000</td>\n",
              "      <td>1.000</td>\n",
              "      <td>1.000</td>\n",
              "    </tr>\n",
              "    <tr>\n",
              "      <th>1</th>\n",
              "      <td>0.05</td>\n",
              "      <td>3.000</td>\n",
              "      <td>0.150</td>\n",
              "      <td>0.050</td>\n",
              "      <td>1.100</td>\n",
              "      <td>1.100</td>\n",
              "      <td>1.100</td>\n",
              "    </tr>\n",
              "    <tr>\n",
              "      <th>2</th>\n",
              "      <td>0.10</td>\n",
              "      <td>3.008</td>\n",
              "      <td>0.315</td>\n",
              "      <td>0.105</td>\n",
              "      <td>1.218</td>\n",
              "      <td>1.218</td>\n",
              "      <td>1.218</td>\n",
              "    </tr>\n",
              "    <tr>\n",
              "      <th>3</th>\n",
              "      <td>0.15</td>\n",
              "      <td>3.023</td>\n",
              "      <td>0.498</td>\n",
              "      <td>0.166</td>\n",
              "      <td>1.355</td>\n",
              "      <td>1.355</td>\n",
              "      <td>1.355</td>\n",
              "    </tr>\n",
              "    <tr>\n",
              "      <th>4</th>\n",
              "      <td>0.20</td>\n",
              "      <td>3.048</td>\n",
              "      <td>0.701</td>\n",
              "      <td>0.234</td>\n",
              "      <td>1.515</td>\n",
              "      <td>1.515</td>\n",
              "      <td>1.515</td>\n",
              "    </tr>\n",
              "    <tr>\n",
              "      <th>5</th>\n",
              "      <td>0.25</td>\n",
              "      <td>3.083</td>\n",
              "      <td>0.928</td>\n",
              "      <td>0.309</td>\n",
              "      <td>1.702</td>\n",
              "      <td>1.702</td>\n",
              "      <td>1.702</td>\n",
              "    </tr>\n",
              "    <tr>\n",
              "      <th>6</th>\n",
              "      <td>0.30</td>\n",
              "      <td>3.130</td>\n",
              "      <td>1.183</td>\n",
              "      <td>0.394</td>\n",
              "      <td>1.919</td>\n",
              "      <td>1.919</td>\n",
              "      <td>1.919</td>\n",
              "    </tr>\n",
              "    <tr>\n",
              "      <th>7</th>\n",
              "      <td>0.35</td>\n",
              "      <td>3.189</td>\n",
              "      <td>1.471</td>\n",
              "      <td>0.490</td>\n",
              "      <td>2.170</td>\n",
              "      <td>2.170</td>\n",
              "      <td>2.170</td>\n",
              "    </tr>\n",
              "    <tr>\n",
              "      <th>8</th>\n",
              "      <td>0.40</td>\n",
              "      <td>3.262</td>\n",
              "      <td>1.797</td>\n",
              "      <td>0.599</td>\n",
              "      <td>2.460</td>\n",
              "      <td>2.460</td>\n",
              "      <td>2.460</td>\n",
              "    </tr>\n",
              "    <tr>\n",
              "      <th>9</th>\n",
              "      <td>0.45</td>\n",
              "      <td>3.352</td>\n",
              "      <td>2.166</td>\n",
              "      <td>0.722</td>\n",
              "      <td>2.796</td>\n",
              "      <td>2.796</td>\n",
              "      <td>2.796</td>\n",
              "    </tr>\n",
              "  </tbody>\n",
              "</table>\n",
              "</div>\n",
              "    <div class=\"colab-df-buttons\">\n",
              "\n",
              "  <div class=\"colab-df-container\">\n",
              "    <button class=\"colab-df-convert\" onclick=\"convertToInteractive('df-f3bf6c3a-3f8a-4600-a0bd-b46d09be5bc9')\"\n",
              "            title=\"Convert this dataframe to an interactive table.\"\n",
              "            style=\"display:none;\">\n",
              "\n",
              "  <svg xmlns=\"http://www.w3.org/2000/svg\" height=\"24px\" viewBox=\"0 -960 960 960\">\n",
              "    <path d=\"M120-120v-720h720v720H120Zm60-500h600v-160H180v160Zm220 220h160v-160H400v160Zm0 220h160v-160H400v160ZM180-400h160v-160H180v160Zm440 0h160v-160H620v160ZM180-180h160v-160H180v160Zm440 0h160v-160H620v160Z\"/>\n",
              "  </svg>\n",
              "    </button>\n",
              "\n",
              "  <style>\n",
              "    .colab-df-container {\n",
              "      display:flex;\n",
              "      gap: 12px;\n",
              "    }\n",
              "\n",
              "    .colab-df-convert {\n",
              "      background-color: #E8F0FE;\n",
              "      border: none;\n",
              "      border-radius: 50%;\n",
              "      cursor: pointer;\n",
              "      display: none;\n",
              "      fill: #1967D2;\n",
              "      height: 32px;\n",
              "      padding: 0 0 0 0;\n",
              "      width: 32px;\n",
              "    }\n",
              "\n",
              "    .colab-df-convert:hover {\n",
              "      background-color: #E2EBFA;\n",
              "      box-shadow: 0px 1px 2px rgba(60, 64, 67, 0.3), 0px 1px 3px 1px rgba(60, 64, 67, 0.15);\n",
              "      fill: #174EA6;\n",
              "    }\n",
              "\n",
              "    .colab-df-buttons div {\n",
              "      margin-bottom: 4px;\n",
              "    }\n",
              "\n",
              "    [theme=dark] .colab-df-convert {\n",
              "      background-color: #3B4455;\n",
              "      fill: #D2E3FC;\n",
              "    }\n",
              "\n",
              "    [theme=dark] .colab-df-convert:hover {\n",
              "      background-color: #434B5C;\n",
              "      box-shadow: 0px 1px 3px 1px rgba(0, 0, 0, 0.15);\n",
              "      filter: drop-shadow(0px 1px 2px rgba(0, 0, 0, 0.3));\n",
              "      fill: #FFFFFF;\n",
              "    }\n",
              "  </style>\n",
              "\n",
              "    <script>\n",
              "      const buttonEl =\n",
              "        document.querySelector('#df-f3bf6c3a-3f8a-4600-a0bd-b46d09be5bc9 button.colab-df-convert');\n",
              "      buttonEl.style.display =\n",
              "        google.colab.kernel.accessAllowed ? 'block' : 'none';\n",
              "\n",
              "      async function convertToInteractive(key) {\n",
              "        const element = document.querySelector('#df-f3bf6c3a-3f8a-4600-a0bd-b46d09be5bc9');\n",
              "        const dataTable =\n",
              "          await google.colab.kernel.invokeFunction('convertToInteractive',\n",
              "                                                    [key], {});\n",
              "        if (!dataTable) return;\n",
              "\n",
              "        const docLinkHtml = 'Like what you see? Visit the ' +\n",
              "          '<a target=\"_blank\" href=https://colab.research.google.com/notebooks/data_table.ipynb>data table notebook</a>'\n",
              "          + ' to learn more about interactive tables.';\n",
              "        element.innerHTML = '';\n",
              "        dataTable['output_type'] = 'display_data';\n",
              "        await google.colab.output.renderOutput(dataTable, element);\n",
              "        const docLink = document.createElement('div');\n",
              "        docLink.innerHTML = docLinkHtml;\n",
              "        element.appendChild(docLink);\n",
              "      }\n",
              "    </script>\n",
              "  </div>\n",
              "\n",
              "\n",
              "<div id=\"df-fa5b3092-53ce-47d1-973b-67ca26cce527\">\n",
              "  <button class=\"colab-df-quickchart\" onclick=\"quickchart('df-fa5b3092-53ce-47d1-973b-67ca26cce527')\"\n",
              "            title=\"Suggest charts\"\n",
              "            style=\"display:none;\">\n",
              "\n",
              "<svg xmlns=\"http://www.w3.org/2000/svg\" height=\"24px\"viewBox=\"0 0 24 24\"\n",
              "     width=\"24px\">\n",
              "    <g>\n",
              "        <path d=\"M19 3H5c-1.1 0-2 .9-2 2v14c0 1.1.9 2 2 2h14c1.1 0 2-.9 2-2V5c0-1.1-.9-2-2-2zM9 17H7v-7h2v7zm4 0h-2V7h2v10zm4 0h-2v-4h2v4z\"/>\n",
              "    </g>\n",
              "</svg>\n",
              "  </button>\n",
              "\n",
              "<style>\n",
              "  .colab-df-quickchart {\n",
              "      --bg-color: #E8F0FE;\n",
              "      --fill-color: #1967D2;\n",
              "      --hover-bg-color: #E2EBFA;\n",
              "      --hover-fill-color: #174EA6;\n",
              "      --disabled-fill-color: #AAA;\n",
              "      --disabled-bg-color: #DDD;\n",
              "  }\n",
              "\n",
              "  [theme=dark] .colab-df-quickchart {\n",
              "      --bg-color: #3B4455;\n",
              "      --fill-color: #D2E3FC;\n",
              "      --hover-bg-color: #434B5C;\n",
              "      --hover-fill-color: #FFFFFF;\n",
              "      --disabled-bg-color: #3B4455;\n",
              "      --disabled-fill-color: #666;\n",
              "  }\n",
              "\n",
              "  .colab-df-quickchart {\n",
              "    background-color: var(--bg-color);\n",
              "    border: none;\n",
              "    border-radius: 50%;\n",
              "    cursor: pointer;\n",
              "    display: none;\n",
              "    fill: var(--fill-color);\n",
              "    height: 32px;\n",
              "    padding: 0;\n",
              "    width: 32px;\n",
              "  }\n",
              "\n",
              "  .colab-df-quickchart:hover {\n",
              "    background-color: var(--hover-bg-color);\n",
              "    box-shadow: 0 1px 2px rgba(60, 64, 67, 0.3), 0 1px 3px 1px rgba(60, 64, 67, 0.15);\n",
              "    fill: var(--button-hover-fill-color);\n",
              "  }\n",
              "\n",
              "  .colab-df-quickchart-complete:disabled,\n",
              "  .colab-df-quickchart-complete:disabled:hover {\n",
              "    background-color: var(--disabled-bg-color);\n",
              "    fill: var(--disabled-fill-color);\n",
              "    box-shadow: none;\n",
              "  }\n",
              "\n",
              "  .colab-df-spinner {\n",
              "    border: 2px solid var(--fill-color);\n",
              "    border-color: transparent;\n",
              "    border-bottom-color: var(--fill-color);\n",
              "    animation:\n",
              "      spin 1s steps(1) infinite;\n",
              "  }\n",
              "\n",
              "  @keyframes spin {\n",
              "    0% {\n",
              "      border-color: transparent;\n",
              "      border-bottom-color: var(--fill-color);\n",
              "      border-left-color: var(--fill-color);\n",
              "    }\n",
              "    20% {\n",
              "      border-color: transparent;\n",
              "      border-left-color: var(--fill-color);\n",
              "      border-top-color: var(--fill-color);\n",
              "    }\n",
              "    30% {\n",
              "      border-color: transparent;\n",
              "      border-left-color: var(--fill-color);\n",
              "      border-top-color: var(--fill-color);\n",
              "      border-right-color: var(--fill-color);\n",
              "    }\n",
              "    40% {\n",
              "      border-color: transparent;\n",
              "      border-right-color: var(--fill-color);\n",
              "      border-top-color: var(--fill-color);\n",
              "    }\n",
              "    60% {\n",
              "      border-color: transparent;\n",
              "      border-right-color: var(--fill-color);\n",
              "    }\n",
              "    80% {\n",
              "      border-color: transparent;\n",
              "      border-right-color: var(--fill-color);\n",
              "      border-bottom-color: var(--fill-color);\n",
              "    }\n",
              "    90% {\n",
              "      border-color: transparent;\n",
              "      border-bottom-color: var(--fill-color);\n",
              "    }\n",
              "  }\n",
              "</style>\n",
              "\n",
              "  <script>\n",
              "    async function quickchart(key) {\n",
              "      const quickchartButtonEl =\n",
              "        document.querySelector('#' + key + ' button');\n",
              "      quickchartButtonEl.disabled = true;  // To prevent multiple clicks.\n",
              "      quickchartButtonEl.classList.add('colab-df-spinner');\n",
              "      try {\n",
              "        const charts = await google.colab.kernel.invokeFunction(\n",
              "            'suggestCharts', [key], {});\n",
              "      } catch (error) {\n",
              "        console.error('Error during call to suggestCharts:', error);\n",
              "      }\n",
              "      quickchartButtonEl.classList.remove('colab-df-spinner');\n",
              "      quickchartButtonEl.classList.add('colab-df-quickchart-complete');\n",
              "    }\n",
              "    (() => {\n",
              "      let quickchartButtonEl =\n",
              "        document.querySelector('#df-fa5b3092-53ce-47d1-973b-67ca26cce527 button');\n",
              "      quickchartButtonEl.style.display =\n",
              "        google.colab.kernel.accessAllowed ? 'block' : 'none';\n",
              "    })();\n",
              "  </script>\n",
              "</div>\n",
              "    </div>\n",
              "  </div>\n"
            ]
          },
          "metadata": {},
          "execution_count": 22
        }
      ]
    },
    {
      "cell_type": "code",
      "metadata": {
        "id": "PDuD6izhzGCY"
      },
      "source": [],
      "execution_count": null,
      "outputs": []
    }
  ]
}